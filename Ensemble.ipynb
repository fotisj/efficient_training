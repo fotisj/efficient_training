{
 "cells": [
  {
   "cell_type": "code",
   "execution_count": 1,
   "metadata": {},
   "outputs": [],
   "source": [
    "import pandas as pd \n",
    "from pathlib import Path\n",
    "from collections import Counter\n",
    "from sklearn.metrics import f1_score, precision_recall_fscore_support\n",
    "import statistics as stat"
   ]
  },
  {
   "cell_type": "code",
   "execution_count": 37,
   "metadata": {},
   "outputs": [],
   "source": [
    "base_dir = r'E:\\lager\\models\\droc-model-electra-'\n",
    "gold = Path(r'D:\\mydata\\Dropbox\\uni\\AUFSATZ\\efficient_training\\data\\droc\\data\\test.txt')\n",
    "df_gold = pd.read_csv(gold, sep=' ', header=None, names=['token', 'tag'])\n",
    "e0 = Path(base_dir+'0') / 'test_predictions.txt'\n",
    "df_e0 = pd.read_csv(e0, sep=' ', header=None, names=['token', 'tag'])\n",
    "e1 = Path(base_dir+'1') / 'test_predictions.txt'\n",
    "df_e1 = pd.read_csv(e1, sep=' ', header=None, names=['token', 'tag'])\n",
    "e2 = Path(base_dir+'2') / 'test_predictions.txt'\n",
    "df_e2 = pd.read_csv(e2, sep=' ', header=None, names=['token', 'tag'])\n",
    "e3 = Path(base_dir+'3') / 'test_predictions.txt'\n",
    "df_e3 = pd.read_csv(e3, sep=' ', header=None, names=['token', 'tag'])\n",
    "e4 = Path(base_dir+'4') / 'test_predictions.txt'\n",
    "df_e4 = pd.read_csv(e4, sep=' ', header=None, names=['token', 'tag'])\n",
    "e5 = Path(base_dir+'5') / 'test_predictions.txt'\n",
    "df_e5 = pd.read_csv(e5, sep=' ', header=None, names=['token', 'tag'])\n",
    "e6 = Path(base_dir+'6') / 'test_predictions.txt'\n",
    "df_e6 = pd.read_csv(e6, sep=' ', header=None, names=['token', 'tag'])\n",
    "e7 = Path(base_dir+'7') / 'test_predictions.txt'\n",
    "df_e7 = pd.read_csv(e7, sep=' ', header=None, names=['token', 'tag'])\n",
    "e8 = Path(base_dir+'8') / 'test_predictions.txt'\n",
    "df_e8 = pd.read_csv(e8, sep=' ', header=None, names=['token', 'tag'])\n",
    "e9 = Path(base_dir+'9') / 'test_predictions.txt'\n",
    "df_e9 = pd.read_csv(e9, sep=' ', header=None, names=['token', 'tag'])\n"
   ]
  },
  {
   "cell_type": "code",
   "execution_count": 65,
   "metadata": {},
   "outputs": [],
   "source": [
    "pd.DataFrame?"
   ]
  },
  {
   "cell_type": "code",
   "execution_count": 3,
   "metadata": {},
   "outputs": [
    {
     "data": {
      "text/html": [
       "<div>\n",
       "<style scoped>\n",
       "    .dataframe tbody tr th:only-of-type {\n",
       "        vertical-align: middle;\n",
       "    }\n",
       "\n",
       "    .dataframe tbody tr th {\n",
       "        vertical-align: top;\n",
       "    }\n",
       "\n",
       "    .dataframe thead th {\n",
       "        text-align: right;\n",
       "    }\n",
       "</style>\n",
       "<table border=\"1\" class=\"dataframe\">\n",
       "  <thead>\n",
       "    <tr style=\"text-align: right;\">\n",
       "      <th></th>\n",
       "      <th>token</th>\n",
       "      <th>tag</th>\n",
       "    </tr>\n",
       "  </thead>\n",
       "  <tbody>\n",
       "    <tr>\n",
       "      <th>0</th>\n",
       "      <td>Sechsundzwanzigstes</td>\n",
       "      <td>O</td>\n",
       "    </tr>\n",
       "    <tr>\n",
       "      <th>1</th>\n",
       "      <td>Kapitel</td>\n",
       "      <td>O</td>\n",
       "    </tr>\n",
       "    <tr>\n",
       "      <th>2</th>\n",
       "      <td>Der</td>\n",
       "      <td>O</td>\n",
       "    </tr>\n",
       "    <tr>\n",
       "      <th>3</th>\n",
       "      <td>neue</td>\n",
       "      <td>O</td>\n",
       "    </tr>\n",
       "    <tr>\n",
       "      <th>4</th>\n",
       "      <td>Bauer</td>\n",
       "      <td>APP</td>\n",
       "    </tr>\n",
       "    <tr>\n",
       "      <th>...</th>\n",
       "      <td>...</td>\n",
       "      <td>...</td>\n",
       "    </tr>\n",
       "    <tr>\n",
       "      <th>37160</th>\n",
       "      <td>Entstehungsgeschichte</td>\n",
       "      <td>O</td>\n",
       "    </tr>\n",
       "    <tr>\n",
       "      <th>37161</th>\n",
       "      <td>unserer</td>\n",
       "      <td>O</td>\n",
       "    </tr>\n",
       "    <tr>\n",
       "      <th>37162</th>\n",
       "      <td>Erde</td>\n",
       "      <td>O</td>\n",
       "    </tr>\n",
       "    <tr>\n",
       "      <th>37163</th>\n",
       "      <td>eröffnet</td>\n",
       "      <td>O</td>\n",
       "    </tr>\n",
       "    <tr>\n",
       "      <th>37164</th>\n",
       "      <td>.</td>\n",
       "      <td>O</td>\n",
       "    </tr>\n",
       "  </tbody>\n",
       "</table>\n",
       "<p>37165 rows × 2 columns</p>\n",
       "</div>"
      ],
      "text/plain": [
       "                       token  tag\n",
       "0        Sechsundzwanzigstes    O\n",
       "1                    Kapitel    O\n",
       "2                        Der    O\n",
       "3                       neue    O\n",
       "4                      Bauer  APP\n",
       "...                      ...  ...\n",
       "37160  Entstehungsgeschichte    O\n",
       "37161                unserer    O\n",
       "37162                   Erde    O\n",
       "37163               eröffnet    O\n",
       "37164                      .    O\n",
       "\n",
       "[37165 rows x 2 columns]"
      ]
     },
     "execution_count": 3,
     "metadata": {},
     "output_type": "execute_result"
    }
   ],
   "source": [
    "df_gold"
   ]
  },
  {
   "cell_type": "code",
   "execution_count": 4,
   "metadata": {},
   "outputs": [
    {
     "data": {
      "text/html": [
       "<div>\n",
       "<style scoped>\n",
       "    .dataframe tbody tr th:only-of-type {\n",
       "        vertical-align: middle;\n",
       "    }\n",
       "\n",
       "    .dataframe tbody tr th {\n",
       "        vertical-align: top;\n",
       "    }\n",
       "\n",
       "    .dataframe thead th {\n",
       "        text-align: right;\n",
       "    }\n",
       "</style>\n",
       "<table border=\"1\" class=\"dataframe\">\n",
       "  <thead>\n",
       "    <tr style=\"text-align: right;\">\n",
       "      <th></th>\n",
       "      <th>token</th>\n",
       "      <th>tag</th>\n",
       "    </tr>\n",
       "  </thead>\n",
       "  <tbody>\n",
       "    <tr>\n",
       "      <th>0</th>\n",
       "      <td>Sechsundzwanzigstes</td>\n",
       "      <td>O</td>\n",
       "    </tr>\n",
       "    <tr>\n",
       "      <th>1</th>\n",
       "      <td>Kapitel</td>\n",
       "      <td>O</td>\n",
       "    </tr>\n",
       "    <tr>\n",
       "      <th>2</th>\n",
       "      <td>Der</td>\n",
       "      <td>O</td>\n",
       "    </tr>\n",
       "    <tr>\n",
       "      <th>3</th>\n",
       "      <td>neue</td>\n",
       "      <td>O</td>\n",
       "    </tr>\n",
       "    <tr>\n",
       "      <th>4</th>\n",
       "      <td>Bauer</td>\n",
       "      <td>APP</td>\n",
       "    </tr>\n",
       "    <tr>\n",
       "      <th>...</th>\n",
       "      <td>...</td>\n",
       "      <td>...</td>\n",
       "    </tr>\n",
       "    <tr>\n",
       "      <th>37160</th>\n",
       "      <td>Entstehungsgeschichte</td>\n",
       "      <td>O</td>\n",
       "    </tr>\n",
       "    <tr>\n",
       "      <th>37161</th>\n",
       "      <td>unserer</td>\n",
       "      <td>O</td>\n",
       "    </tr>\n",
       "    <tr>\n",
       "      <th>37162</th>\n",
       "      <td>Erde</td>\n",
       "      <td>O</td>\n",
       "    </tr>\n",
       "    <tr>\n",
       "      <th>37163</th>\n",
       "      <td>eröffnet</td>\n",
       "      <td>O</td>\n",
       "    </tr>\n",
       "    <tr>\n",
       "      <th>37164</th>\n",
       "      <td>.</td>\n",
       "      <td>O</td>\n",
       "    </tr>\n",
       "  </tbody>\n",
       "</table>\n",
       "<p>37165 rows × 2 columns</p>\n",
       "</div>"
      ],
      "text/plain": [
       "                       token  tag\n",
       "0        Sechsundzwanzigstes    O\n",
       "1                    Kapitel    O\n",
       "2                        Der    O\n",
       "3                       neue    O\n",
       "4                      Bauer  APP\n",
       "...                      ...  ...\n",
       "37160  Entstehungsgeschichte    O\n",
       "37161                unserer    O\n",
       "37162                   Erde    O\n",
       "37163               eröffnet    O\n",
       "37164                      .    O\n",
       "\n",
       "[37165 rows x 2 columns]"
      ]
     },
     "execution_count": 4,
     "metadata": {},
     "output_type": "execute_result"
    }
   ],
   "source": [
    "df_e1"
   ]
  },
  {
   "cell_type": "code",
   "execution_count": 5,
   "metadata": {},
   "outputs": [
    {
     "data": {
      "text/plain": [
       "0.8830494909733063"
      ]
     },
     "execution_count": 5,
     "metadata": {},
     "output_type": "execute_result"
    }
   ],
   "source": [
    "f1_score(df_gold.tag, df_e1.tag, labels=['APP','O', 'PER'], average='macro')"
   ]
  },
  {
   "cell_type": "code",
   "execution_count": 7,
   "metadata": {},
   "outputs": [
    {
     "data": {
      "text/plain": [
       "(0.8543640887921413, 0.805200055067866, 0.8290205810516655, None)"
      ]
     },
     "execution_count": 7,
     "metadata": {},
     "output_type": "execute_result"
    }
   ],
   "source": [
    "precision_recall_fscore_support(df_gold.tag, df_e1.tag, labels=['APP','PER'], average='macro')"
   ]
  },
  {
   "cell_type": "code",
   "execution_count": 36,
   "metadata": {},
   "outputs": [],
   "source": [
    "#according to the huggingface script this is the test result:\n",
    "\n",
    "eval_precision = 0.8025114155251142\n",
    "eval_recall = 0.7912211592571751\n",
    "eval_f1 = 0.7968262964012468\n"
   ]
  },
  {
   "cell_type": "code",
   "execution_count": 37,
   "metadata": {},
   "outputs": [
    {
     "data": {
      "text/plain": [
       "0.7968262964012468"
      ]
     },
     "execution_count": 37,
     "metadata": {},
     "output_type": "execute_result"
    }
   ],
   "source": [
    "f1 = 2 * (eval_precision * eval_recall) / (eval_precision + eval_recall)\n",
    "f1"
   ]
  },
  {
   "cell_type": "code",
   "execution_count": 112,
   "metadata": {},
   "outputs": [
    {
     "name": "stdout",
     "output_type": "stream",
     "text": [
      "precision APP: 0.803 PER: 0.906\n",
      "   recall APP: 0.767 PER: 0.843\n",
      "       f1 APP: 0.785 PER: 0.874\n",
      "support: [1137 1003]\n"
     ]
    }
   ],
   "source": [
    "r = precision_recall_fscore_support(df_gold.tag, df_e1.tag, labels=['APP', 'PER'])\n",
    "print(f'precision APP: {r[0][0]:.3f} PER: {r[0][1]:.3f}\\\n",
    "\\n{\"recall APP:\":>14} {r[1][0]:.3f} PER: {r[1][1]:>.3f}\\n\\\n",
    "{\"f1 APP:\":>14} {r[2][0]:>.3f} PER: {r[2][1]:>.3f}\\nsupport: {r[3]}')"
   ]
  },
  {
   "cell_type": "code",
   "execution_count": 96,
   "metadata": {},
   "outputs": [
    {
     "data": {
      "text/plain": [
       "'APP'"
      ]
     },
     "execution_count": 96,
     "metadata": {},
     "output_type": "execute_result"
    }
   ],
   "source": []
  },
  {
   "cell_type": "code",
   "execution_count": null,
   "metadata": {},
   "outputs": [],
   "source": [
    "def simple_voter(tags):\n",
    "    line_tags = zip(tags)\n",
    "    line_tags.count('O')"
   ]
  },
  {
   "cell_type": "code",
   "execution_count": 85,
   "metadata": {},
   "outputs": [],
   "source": [
    "val = Counter()\n",
    "columns = ['tag'+str(i) for i in range(10)]\n",
    "data = [df_e0.tag, df_e1.tag, df_e2.tag, df_e3.tag, df_e4.tag, df_e5.tag,  \n",
    "                     df_e6.tag, df_e7.tag, df_e8.tag, df_e9.tag]\n",
    "dfs = pd.DataFrame(data).T\n",
    "dfs.columns = columns"
   ]
  },
  {
   "cell_type": "code",
   "execution_count": 68,
   "metadata": {},
   "outputs": [],
   "source": [
    "voted_results = []\n",
    "for row in dfs.iterrows():\n",
    "    voted_results.append(Counter(row[1].values).most_common()[0][0])\n",
    "    \n"
   ]
  },
  {
   "cell_type": "code",
   "execution_count": 69,
   "metadata": {},
   "outputs": [
    {
     "data": {
      "text/plain": [
       "37165"
      ]
     },
     "execution_count": 69,
     "metadata": {},
     "output_type": "execute_result"
    }
   ],
   "source": [
    "len(voted_results)"
   ]
  },
  {
   "cell_type": "code",
   "execution_count": 70,
   "metadata": {},
   "outputs": [
    {
     "name": "stdout",
     "output_type": "stream",
     "text": [
      "precision APP: 0.804 PER: 0.919\n",
      "   recall APP: 0.766 PER: 0.842\n",
      "       f1 APP: 0.784 PER: 0.879\n",
      "support: [1137 1003]\n"
     ]
    }
   ],
   "source": [
    "r = precision_recall_fscore_support(df_gold.tag, voted_results, labels=['APP','PER'])\n",
    "print(f'precision APP: {r[0][0]:.3f} PER: {r[0][1]:.3f}\\\n",
    "\\n{\"recall APP:\":>14} {r[1][0]:.3f} PER: {r[1][1]:>.3f}\\n\\\n",
    "{\"f1 APP:\":>14} {r[2][0]:>.3f} PER: {r[2][1]:>.3f}\\nsupport: {r[3]}')"
   ]
  },
  {
   "cell_type": "code",
   "execution_count": 71,
   "metadata": {},
   "outputs": [
    {
     "data": {
      "text/plain": [
       "(array([0.80350554, 0.98916444, 0.91947769]),\n",
       " array([0.76605101, 0.99303355, 0.84247258]),\n",
       " array([0.78433138, 0.99109522, 0.8792924 ]),\n",
       " array([ 1137, 35025,  1003], dtype=int64))"
      ]
     },
     "execution_count": 71,
     "metadata": {},
     "output_type": "execute_result"
    }
   ],
   "source": [
    "precision_recall_fscore_support(df_gold.tag, voted_results, labels=['APP','O', 'PER'])"
   ]
  },
  {
   "cell_type": "code",
   "execution_count": 88,
   "metadata": {},
   "outputs": [],
   "source": [
    "f1_voted = precision_recall_fscore_support(df_gold.tag, voted_results,  labels=['APP', 'PER'], average='macro')[2]\n",
    "c = 0\n",
    "differences = []\n",
    "for column in data:\n",
    "    f1_single = precision_recall_fscore_support(df_gold.tag, column, labels=['APP', 'PER'], average='macro')[2]\n",
    "    if f1_single > f1_voted:\n",
    "        print(f'df_e{c} is better')\n",
    "        \n",
    "    differences.append(f1_voted-f1_single)\n",
    "    c += 1\n",
    "        \n",
    "    "
   ]
  },
  {
   "cell_type": "code",
   "execution_count": 96,
   "metadata": {},
   "outputs": [
    {
     "name": "stdout",
     "output_type": "stream",
     "text": [
      "mean: 0.006495800805882334. (std: 0.004069759146751109)\n",
      "max value: 0.0132327197926142\n",
      "min value: 0.0012698100671066914\n"
     ]
    }
   ],
   "source": [
    "print(f'mean: {stat.mean(differences)}. (std: {stat.stdev(differences)})' )\n",
    "print(f'max value: {max(differences)}')\n",
    "print(f'min value: {min(differences)}')"
   ]
  },
  {
   "cell_type": "code",
   "execution_count": 60,
   "metadata": {},
   "outputs": [],
   "source": [
    "dissent_small = 0\n",
    "dissent_big = 0\n",
    "consistent_wrong = 0\n",
    "for row, gold in zip(dfs_.iterrows(), df_gold.tag):\n",
    "    dis_row = set(row[1].values)\n",
    "    if len(dis_row) == 2:\n",
    "        dissent_small+=1\n",
    "    elif len(dis_row) == 3:\n",
    "        dissent_big+=1\n",
    "    if len(dis_row) == 1 and list(dis_row)[0] != gold:\n",
    "        consistent_wrong += 1"
   ]
  },
  {
   "cell_type": "code",
   "execution_count": 61,
   "metadata": {},
   "outputs": [
    {
     "name": "stdout",
     "output_type": "stream",
     "text": [
      "534\n",
      "19\n",
      "428\n"
     ]
    }
   ],
   "source": [
    "print(dissent_small)\n",
    "print(dissent_big)\n",
    "print(consistent_wrong)"
   ]
  },
  {
   "cell_type": "code",
   "execution_count": null,
   "metadata": {},
   "outputs": [],
   "source": [
    "all = 1137 + 35025 + 1003"
   ]
  },
  {
   "cell_type": "code",
   "execution_count": 58,
   "metadata": {},
   "outputs": [
    {
     "name": "stdout",
     "output_type": "stream",
     "text": [
      "['O' 'O' 'APP' 'APP' 'APP' 'APP' 'APP' 'O' 'O' 'O'] - O\n",
      "['O' 'O' 'APP' 'O' 'O' 'O' 'O' 'O' 'APP' 'APP'] - APP\n",
      "['O' 'O' 'O' 'O' 'O' 'O' 'O' 'O' 'O' 'APP'] - O\n",
      "['O' 'O' 'O' 'O' 'O' 'O' 'O' 'O' 'O' 'APP'] - O\n",
      "['APP' 'APP' 'APP' 'APP' 'O' 'O' 'O' 'APP' 'APP' 'O'] - O\n",
      "['APP' 'APP' 'APP' 'APP' 'APP' 'APP' 'APP' 'APP' 'O' 'APP'] - O\n",
      "['APP' 'APP' 'APP' 'O' 'APP' 'APP' 'APP' 'APP' 'O' 'APP'] - APP\n",
      "['APP' 'APP' 'APP' 'APP' 'O' 'O' 'O' 'O' 'O' 'APP'] - APP\n",
      "['APP' 'O' 'O' 'APP' 'O' 'O' 'O' 'O' 'O' 'O'] - O\n",
      "['O' 'O' 'O' 'O' 'O' 'O' 'O' 'APP' 'O' 'APP'] - APP\n",
      "['O' 'O' 'O' 'O' 'O' 'O' 'O' 'O' 'O' 'APP'] - O\n",
      "['O' 'APP' 'APP' 'APP' 'O' 'O' 'O' 'O' 'APP' 'APP'] - O\n",
      "['O' 'O' 'O' 'O' 'APP' 'APP' 'APP' 'APP' 'O' 'O'] - O\n",
      "['APP' 'O' 'APP' 'APP' 'APP' 'APP' 'APP' 'APP' 'APP' 'APP'] - O\n",
      "['O' 'APP' 'APP' 'APP' 'O' 'O' 'O' 'APP' 'APP' 'APP'] - APP\n",
      "['APP' 'PER' 'PER' 'APP' 'PER' 'PER' 'PER' 'APP' 'APP' 'PER'] - PER\n",
      "['PER' 'PER' 'APP' 'PER' 'PER' 'PER' 'PER' 'APP' 'PER' 'PER'] - PER\n",
      "['APP' 'APP' 'APP' 'APP' 'O' 'O' 'O' 'APP' 'APP' 'O'] - O\n",
      "['APP' 'O' 'O' 'O' 'O' 'O' 'O' 'O' 'APP' 'APP'] - APP\n",
      "['O' 'O' 'O' 'APP' 'O' 'O' 'O' 'O' 'O' 'O'] - O\n",
      "['O' 'O' 'O' 'O' 'O' 'O' 'O' 'O' 'O' 'APP'] - APP\n",
      "['APP' 'APP' 'APP' 'O' 'APP' 'APP' 'APP' 'APP' 'APP' 'APP'] - APP\n",
      "['APP' 'APP' 'PER' 'APP' 'PER' 'PER' 'PER' 'PER' 'PER' 'PER'] - PER\n",
      "['APP' 'APP' 'O' 'O' 'APP' 'APP' 'APP' 'APP' 'O' 'APP'] - APP\n",
      "['O' 'O' 'APP' 'O' 'APP' 'APP' 'APP' 'O' 'O' 'O'] - APP\n",
      "['APP' 'APP' 'APP' 'APP' 'O' 'O' 'O' 'APP' 'APP' 'APP'] - APP\n",
      "['APP' 'O' 'APP' 'APP' 'O' 'O' 'O' 'APP' 'APP' 'APP'] - O\n",
      "['APP' 'APP' 'O' 'APP' 'O' 'O' 'O' 'APP' 'O' 'APP'] - APP\n",
      "['O' 'O' 'O' 'O' 'O' 'O' 'O' 'APP' 'APP' 'O'] - O\n",
      "['PER' 'PER' 'PER' 'PER' 'PER' 'PER' 'PER' 'O' 'PER' 'PER'] - O\n",
      "['APP' 'APP' 'APP' 'APP' 'O' 'O' 'O' 'APP' 'APP' 'APP'] - APP\n",
      "['O' 'O' 'O' 'APP' 'O' 'O' 'O' 'O' 'APP' 'O'] - O\n",
      "['PER' 'PER' 'O' 'O' 'O' 'O' 'O' 'PER' 'O' 'O'] - O\n",
      "['O' 'O' 'PER' 'O' 'O' 'O' 'O' 'PER' 'O' 'O'] - O\n",
      "['APP' 'O' 'O' 'APP' 'APP' 'APP' 'APP' 'APP' 'APP' 'O'] - O\n",
      "['O' 'APP' 'O' 'O' 'O' 'O' 'O' 'O' 'O' 'O'] - O\n",
      "['APP' 'O' 'O' 'O' 'O' 'O' 'O' 'O' 'APP' 'O'] - O\n",
      "['APP' 'APP' 'APP' 'O' 'APP' 'APP' 'APP' 'APP' 'APP' 'APP'] - APP\n",
      "['O' 'APP' 'O' 'O' 'O' 'O' 'O' 'APP' 'APP' 'O'] - APP\n",
      "['O' 'O' 'O' 'O' 'O' 'O' 'O' 'APP' 'O' 'O'] - APP\n",
      "['APP' 'APP' 'APP' 'O' 'APP' 'APP' 'APP' 'APP' 'O' 'APP'] - O\n",
      "['APP' 'O' 'APP' 'O' 'O' 'O' 'O' 'APP' 'APP' 'O'] - APP\n",
      "['PER' 'PER' 'PER' 'O' 'O' 'O' 'O' 'O' 'PER' 'O'] - O\n",
      "['APP' 'APP' 'APP' 'APP' 'APP' 'APP' 'APP' 'APP' 'APP' 'PER'] - APP\n",
      "['O' 'O' 'O' 'O' 'O' 'O' 'O' 'APP' 'O' 'O'] - O\n",
      "['O' 'PER' 'PER' 'PER' 'O' 'O' 'O' 'PER' 'PER' 'O'] - PER\n",
      "['O' 'APP' 'APP' 'APP' 'O' 'O' 'O' 'O' 'O' 'O'] - O\n",
      "['APP' 'APP' 'O' 'APP' 'APP' 'APP' 'APP' 'O' 'O' 'O'] - O\n",
      "['O' 'O' 'O' 'O' 'O' 'O' 'O' 'APP' 'O' 'APP'] - PER\n",
      "['APP' 'APP' 'APP' 'O' 'APP' 'APP' 'APP' 'O' 'O' 'APP'] - APP\n",
      "['O' 'O' 'O' 'O' 'APP' 'APP' 'APP' 'O' 'O' 'O'] - APP\n"
     ]
    }
   ],
   "source": [
    "c = 0\n",
    "for row, gold in zip(dfs_.iterrows(), df_gold.tag):\n",
    "    dis_row = set(row[1].values)\n",
    "    if len(dis_row) == 2:\n",
    "        print(f'{row[1].values} - {gold}')\n",
    "        c += 1\n",
    "    elif len(dis_row) == 3:\n",
    "        #print(f'{row[1].values} - {gold}')\n",
    "        pass\n",
    "    \n",
    "    if c > 50: break"
   ]
  },
  {
   "cell_type": "code",
   "execution_count": 100,
   "metadata": {},
   "outputs": [],
   "source": [
    "from collections import defaultdict\n",
    "results = defaultdict(list, {'eval_loss': [0.0459157828572056, 0.033768184715881944, 0.04073328711092472, 0.051157466894774524, 0.06086354581837324, 0.05360105078752068, 0.04199437001793116, 0.0636099944374739, 0.047252396995757236, 0.06589457702769626, 0.04881200838773962, 0.03475756815660902, 0.04498173930224473, 0.05463380733918813, 0.06397211823136882, 0.05546093731483614, 0.04363618892453173, 0.06532545402072944, 0.051323528238163704, 0.06926462071108593, 0.08284558994214862, 0.06350448669927829, 0.07509534525827079, 0.09469966608513561, 0.10602081194519997, 0.09489778383497403, 0.07147069241595912, 0.11124905424479109, 0.08262822484564886, 0.11672001284830458], 'eval_precision': [0.8322115384615385, 0.8097855964815833, 0.7767918088737201, 0.8178206583427923, 0.7573313782991202, 0.7655430711610487, 0.7918983320095314, 0.7674418604651163, 0.806371018113679, 0.793552036199095, 0.8219641993226899, 0.8083427282976324, 0.7669064748201438, 0.7998859749144812, 0.7547027840481565, 0.7592174567343868, 0.8076609616951915, 0.7616968184653774, 0.779245283018868, 0.7889273356401384, 0.8318028032866119, 0.8096026490066225, 0.7787794729542302, 0.8133640552995391, 0.7849624060150376, 0.783763277693475, 0.7959514170040486, 0.785264483627204, 0.8154911838790933, 0.8077373974208675], 'eval_recall': [0.8318116290245074, 0.8388382687927107, 0.8093883357041252, 0.8095505617977528, 0.7305516265912305, 0.73, 0.772269558481797, 0.7876884422110553, 0.8003719776813392, 0.7895329206527856, 0.8164344065353195, 0.816628701594533, 0.7581792318634424, 0.7882022471910113, 0.7093352192362093, 0.7207142857142858, 0.7676219984508134, 0.7669597989949749, 0.7681339119652821, 0.7698368036015757, 0.8270062469966363, 0.8354214123006833, 0.798719772403983, 0.7932584269662921, 0.7383309759547383, 0.7378571428571429, 0.761425251742835, 0.7832914572864321, 0.8028518288902666, 0.7754642656162071], 'eval_f1': [0.8320115356885365, 0.824055944055944, 0.7927551375827238, 0.8136645962732918, 0.7437005039596832, 0.7473491773308958, 0.7819607843137255, 0.77743335399876, 0.8033602986932171, 0.7915373765867418, 0.8191899710703954, 0.8124645892351275, 0.7625178826895566, 0.7940011318619128, 0.7313160772876413, 0.739465005496519, 0.7871326449563144, 0.764319248826291, 0.7736497034030597, 0.7792651666191968, 0.8293975903614459, 0.8223094170403589, 0.7886235955056179, 0.8031854379977246, 0.7609329446064139, 0.7601177336276673, 0.7783056215360253, 0.7842767295597484, 0.809122149328335, 0.7912718920470858]})\n",
    "eval_loss =  0.065 \n",
    "eval_precision  =   0.792\n",
    "eval_recall  =   0.781 \n",
    "eval_f1  =   0.787 "
   ]
  },
  {
   "cell_type": "code",
   "execution_count": 105,
   "metadata": {},
   "outputs": [
    {
     "name": "stdout",
     "output_type": "stream",
     "text": [
      "0.7866231080513318\n",
      "0.027379040612346115\n",
      "0.8320115356885365\n",
      "0.7313160772876413\n"
     ]
    }
   ],
   "source": [
    "print(stat.mean(results['eval_f1']))\n",
    "print(stat.stdev(results['eval_f1']))\n",
    "print(max(results['eval_f1']))\n",
    "print(min(results['eval_f1']))"
   ]
  },
  {
   "cell_type": "code",
   "execution_count": 6,
   "metadata": {},
   "outputs": [],
   "source": [
    "df = pd.read_csv('test.csv', header=None)"
   ]
  },
  {
   "cell_type": "code",
   "execution_count": 7,
   "metadata": {},
   "outputs": [
    {
     "data": {
      "text/html": [
       "<div>\n",
       "<style scoped>\n",
       "    .dataframe tbody tr th:only-of-type {\n",
       "        vertical-align: middle;\n",
       "    }\n",
       "\n",
       "    .dataframe tbody tr th {\n",
       "        vertical-align: top;\n",
       "    }\n",
       "\n",
       "    .dataframe thead th {\n",
       "        text-align: right;\n",
       "    }\n",
       "</style>\n",
       "<table border=\"1\" class=\"dataframe\">\n",
       "  <thead>\n",
       "    <tr style=\"text-align: right;\">\n",
       "      <th></th>\n",
       "      <th>0</th>\n",
       "      <th>1</th>\n",
       "      <th>2</th>\n",
       "    </tr>\n",
       "  </thead>\n",
       "  <tbody>\n",
       "    <tr>\n",
       "      <th>0</th>\n",
       "      <td>fotis</td>\n",
       "      <td>123</td>\n",
       "      <td>123</td>\n",
       "    </tr>\n",
       "    <tr>\n",
       "      <th>1</th>\n",
       "      <td>simone</td>\n",
       "      <td>222</td>\n",
       "      <td>333</td>\n",
       "    </tr>\n",
       "    <tr>\n",
       "      <th>2</th>\n",
       "      <td>matthias</td>\n",
       "      <td>312</td>\n",
       "      <td>322</td>\n",
       "    </tr>\n",
       "  </tbody>\n",
       "</table>\n",
       "</div>"
      ],
      "text/plain": [
       "          0    1    2\n",
       "0     fotis  123  123\n",
       "1    simone  222  333\n",
       "2  matthias  312  322"
      ]
     },
     "execution_count": 7,
     "metadata": {},
     "output_type": "execute_result"
    }
   ],
   "source": [
    "df"
   ]
  },
  {
   "cell_type": "code",
   "execution_count": null,
   "metadata": {},
   "outputs": [],
   "source": []
  }
 ],
 "metadata": {
  "kernelspec": {
   "display_name": "ml",
   "language": "python",
   "name": "ml"
  },
  "language_info": {
   "codemirror_mode": {
    "name": "ipython",
    "version": 3
   },
   "file_extension": ".py",
   "mimetype": "text/x-python",
   "name": "python",
   "nbconvert_exporter": "python",
   "pygments_lexer": "ipython3",
   "version": "3.7.6"
  },
  "toc": {
   "base_numbering": 1,
   "nav_menu": {},
   "number_sections": true,
   "sideBar": true,
   "skip_h1_title": false,
   "title_cell": "Table of Contents",
   "title_sidebar": "Contents",
   "toc_cell": false,
   "toc_position": {},
   "toc_section_display": true,
   "toc_window_display": false
  }
 },
 "nbformat": 4,
 "nbformat_minor": 2
}
